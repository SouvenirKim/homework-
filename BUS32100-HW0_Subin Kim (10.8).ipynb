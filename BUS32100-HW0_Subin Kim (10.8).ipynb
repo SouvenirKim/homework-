{
 "cells": [
  {
   "cell_type": "markdown",
   "metadata": {},
   "source": [
    "# BUS32100, HW 0\n",
    "\n",
    "Please follow the directions on Canvas for how to download/upload your homework. Keep your output displayed to make grading easier for us! "
   ]
  },
  {
   "cell_type": "markdown",
   "metadata": {},
   "source": [
    "### 1) Lists in Python"
   ]
  },
  {
   "cell_type": "markdown",
   "metadata": {},
   "source": [
    "### 1a"
   ]
  },
  {
   "cell_type": "code",
   "execution_count": 1,
   "metadata": {},
   "outputs": [
    {
     "name": "stdout",
     "output_type": "stream",
     "text": [
      "6 2\n"
     ]
    }
   ],
   "source": [
    "# todo: create several variables in Python\n",
    "x = 6\n",
    "y = 2\n",
    "\n",
    "print(x, y)\n",
    "\n"
   ]
  },
  {
   "cell_type": "markdown",
   "metadata": {},
   "source": [
    "### 1b"
   ]
  },
  {
   "cell_type": "code",
   "execution_count": 3,
   "metadata": {},
   "outputs": [],
   "source": [
    "# todo: create several lists in Python, some with homogenous types and some with heterogenous types\n",
    "Int_list = [1,2,3,4,5]\n",
    "String_list = [\"apple\", \"banana\", \"Cherry\"]\n",
    "Mixed_list = [1, \"two\", 3.0, False]\n",
    "\n"
   ]
  },
  {
   "cell_type": "markdown",
   "metadata": {},
   "source": [
    "### 1c"
   ]
  },
  {
   "cell_type": "code",
   "execution_count": 7,
   "metadata": {},
   "outputs": [
    {
     "data": {
      "text/plain": [
       "[1, 3, 5]"
      ]
     },
     "execution_count": 7,
     "metadata": {},
     "output_type": "execute_result"
    }
   ],
   "source": [
    "# todo: return a slice from one of your Python lists (slice can be any length you choose. experiment!)\n",
    "my_list = [1,2,3,4,5,6,7,8,9,10]\n",
    "my_list [ :6:2]\n"
   ]
  },
  {
   "cell_type": "markdown",
   "metadata": {},
   "source": [
    "### 1d"
   ]
  },
  {
   "cell_type": "code",
   "execution_count": 8,
   "metadata": {},
   "outputs": [
    {
     "data": {
      "text/plain": [
       "[1, 4, 7, 10]"
      ]
     },
     "execution_count": 8,
     "metadata": {},
     "output_type": "execute_result"
    }
   ],
   "source": [
    "# todo: return a slice of a list but only return every third element\n",
    "my_list [ :  :3]\n",
    "\n"
   ]
  },
  {
   "cell_type": "code",
   "execution_count": null,
   "metadata": {},
   "outputs": [],
   "source": []
  },
  {
   "cell_type": "markdown",
   "metadata": {},
   "source": [
    "## 2) If-Else statements in Python"
   ]
  },
  {
   "cell_type": "markdown",
   "metadata": {},
   "source": [
    "### 2a"
   ]
  },
  {
   "cell_type": "code",
   "execution_count": 15,
   "metadata": {},
   "outputs": [
    {
     "name": "stdout",
     "output_type": "stream",
     "text": [
      "The number is positive.\n"
     ]
    }
   ],
   "source": [
    "# todo: write an if-else statement using only an if and an else clause\n",
    "number = 10\n",
    "\n",
    "if number > 0:\n",
    "    print(\"The number is positive.\")\n",
    "else:\n",
    "    print(\"The number is non-positive.\")\n"
   ]
  },
  {
   "cell_type": "markdown",
   "metadata": {},
   "source": [
    "### 2b"
   ]
  },
  {
   "cell_type": "code",
   "execution_count": 17,
   "metadata": {},
   "outputs": [
    {
     "name": "stdout",
     "output_type": "stream",
     "text": [
      "Grade: B\n"
     ]
    }
   ],
   "source": [
    "# todo: write an if-else statement but using an if, elif, and else clauses\n",
    "score = 85\n",
    "\n",
    "if score >= 90:\n",
    "    print(\"Grade: A\")\n",
    "elif score >= 80:\n",
    "    print(\"Grade: B\")\n",
    "elif score >= 70:\n",
    "    print(\"Grade: C\")\n",
    "elif score >= 60:\n",
    "    print(\"Grade: D\")\n",
    "else:\n",
    "    print(\"Grade: F\")\n",
    "\n"
   ]
  },
  {
   "cell_type": "markdown",
   "metadata": {},
   "source": [
    "## 3) Functions in Python"
   ]
  },
  {
   "cell_type": "markdown",
   "metadata": {},
   "source": [
    "### 3a"
   ]
  },
  {
   "cell_type": "code",
   "execution_count": 22,
   "metadata": {},
   "outputs": [],
   "source": [
    "# todo: write a function that takes in two integers and prints out which one is larger\n",
    "def compare_numbers (num1, num2):\n",
    "    if num1 > num2 :\n",
    "        print(num1)\n",
    "    elif num2 > num1:\n",
    "        print(num2)\n",
    "    else: \n",
    "        print(\"both numbers are equal\")\n"
   ]
  },
  {
   "cell_type": "code",
   "execution_count": null,
   "metadata": {},
   "outputs": [],
   "source": []
  },
  {
   "cell_type": "markdown",
   "metadata": {},
   "source": [
    "### 3b"
   ]
  },
  {
   "cell_type": "code",
   "execution_count": 24,
   "metadata": {},
   "outputs": [],
   "source": [
    "# todo: write a function that takes in a string and prints out the characters in backwards order\n",
    "def print_reverse (string):\n",
    "    reversed_string = string[ : :-1]\n",
    "    print(reversed_string)\n",
    "\n",
    "\n"
   ]
  },
  {
   "cell_type": "markdown",
   "metadata": {},
   "source": [
    "### 3c"
   ]
  },
  {
   "cell_type": "code",
   "execution_count": 27,
   "metadata": {},
   "outputs": [],
   "source": [
    "# todo: write a function that takes in a long string (several sentences) and *returns* the string (doesn't print it out)\n",
    "# with random vowels replaced with '*' to make it look hilariously censored\n",
    "# you can replace all vowels or only some vowels, up to you\n",
    "import random\n",
    "\n",
    "def censor_random_vowels(input_string):\n",
    "    vowels = \"aeiouAEIOU\" \n",
    "    censored_string = \"\"\n",
    "\n",
    "    for char in input_string:\n",
    "        if char in vowels and random.choice([True, False]):  # True 또는 False 중 랜덤으로 선택\n",
    "            censored_string += '*'\n",
    "        else:\n",
    "            censored_string += char\n",
    "\n",
    "    return censored_string\n",
    "\n"
   ]
  },
  {
   "cell_type": "markdown",
   "metadata": {},
   "source": [
    "### 3d"
   ]
  },
  {
   "cell_type": "code",
   "execution_count": 26,
   "metadata": {},
   "outputs": [],
   "source": [
    "# todo: Write a function that:\n",
    "# Takes in two inputs: a list of words and an integer n\n",
    "# Returns a new list containing only the words that have a length greater than or equal to n\n",
    "def filter_words_by_length(words, n):\n",
    "    \"\"\"Returns a list of words that have a length greater than or equal to n.\"\"\"\n",
    "    # Create a new list using list comprehension\n",
    "    filtered_words = [word for word in words if len(word) >= n]\n",
    "    return filtered_words\n",
    "\n"
   ]
  },
  {
   "cell_type": "code",
   "execution_count": null,
   "metadata": {},
   "outputs": [],
   "source": []
  },
  {
   "cell_type": "markdown",
   "metadata": {},
   "source": [
    "## 3e"
   ]
  },
  {
   "cell_type": "code",
   "execution_count": 25,
   "metadata": {},
   "outputs": [],
   "source": [
    "# todo: Write a function that:\n",
    "# Takes in a list of integers\n",
    "# Returns two lists: one list with all the even numbers, and one list with all the odd numbers\n",
    "def filter_words_by_length(words, n):\n",
    "    \"\"\"Returns a list of words that have a length greater than or equal to n.\"\"\"\n",
    "    filtered_words = [word for word in words if len(word) >= n]\n",
    "    return filtered_words\n",
    "\n"
   ]
  },
  {
   "cell_type": "code",
   "execution_count": null,
   "metadata": {},
   "outputs": [],
   "source": []
  }
 ],
 "metadata": {
  "kernelspec": {
   "display_name": "Python 3 (ipykernel)",
   "language": "python",
   "name": "python3"
  },
  "language_info": {
   "codemirror_mode": {
    "name": "ipython",
    "version": 3
   },
   "file_extension": ".py",
   "mimetype": "text/x-python",
   "name": "python",
   "nbconvert_exporter": "python",
   "pygments_lexer": "ipython3",
   "version": "3.11.9"
  }
 },
 "nbformat": 4,
 "nbformat_minor": 4
}
